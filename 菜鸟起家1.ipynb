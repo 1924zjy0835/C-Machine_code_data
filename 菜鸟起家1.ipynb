{
 "cells": [
  {
   "cell_type": "markdown",
   "metadata": {},
   "source": [
    "# 记笔记\n",
    "- 第一点\n",
    "- 第二点\n",
    "- 第三点"
   ]
  },
  {
   "cell_type": "code",
   "execution_count": null,
   "metadata": {},
   "outputs": [],
   "source": [
    "# print(\"This is a book\")"
   ]
  },
  {
   "cell_type": "code",
   "execution_count": 22,
   "metadata": {
    "scrolled": true
   },
   "outputs": [
    {
     "data": {
      "image/png": "[encoded data removed]",
      "text/plain": [
       "<Figure size 432x288 with 1 Axes>"
      ]
     },
     "metadata": {
      "needs_background": "light"
     },
     "output_type": "display_data"
    }
   ],
   "source": [
    "import numpy as np              #导入包numpy,科学计算的包，包含很多矩阵运算的功能，另起名np\n",
    "from matplotlib import pyplot as plt       #从matplot 包中导入一个函数，包，pyplot并改名*/\n",
    "%matplotlib inline                   \n",
    "#将它作为一个inline函数，就可以在jupter 的notebook 中显示出来图形\n",
    "\n",
    "#定义一个函数，将三个样本点画出来\n",
    "\n",
    "def draw_pts(x,y):     #两个参数，有正样本，负样本，必须有y,画出样本点，不知道有多少个样本点，须知到样本点的维度\n",
    "    for i in range(len(y)):     #循环画出点\n",
    "        if y[i] == 1:              #判断是正样本还是负样本，通过Y来判断\n",
    "            \n",
    "            #x第i个样本点的第0个维度，和第i个样本点的第1个维度\n",
    "            \n",
    "            plt.plot(x[i][0],x[i][1],'ro')               #将正样本点绘制成红色，plot 函数需要两个参数x,y,对应于平面中的x,y轴\n",
    "        else:\n",
    "            plt.plot(x[i][0],x[i][1],'bo')               #将负样本点绘制成蓝色，\n",
    "            \n",
    "\n",
    "#分割超平面由两部分组成w,b，\n",
    "\n",
    "#     1.初始化w,b为0的方式,感知机的原始形式\n",
    "\n",
    "#画出这条直线，定义一个函数\n",
    "def draw_line(w,b):       #画直线也是通过很多的点，所以定义很多的点横坐标0-10，\n",
    "    line_x = [0,10]\n",
    "    line_y = [0,0]        #先定义一个line_y,在通过W,b 求出line_y  \n",
    "#     w * x + b\n",
    "#     w[0] * x[0] + w[1] * x[1] + b = 0\n",
    "    for i in range(len(line_x)):\n",
    "        line_y[i] = (-w[0] * line_x[i] - b) / (w[1] + 1e-6)      \n",
    "        # 因为w[1]，为0， 除以一个为0的数，就会在画图时，出现错误，因此可以加上一个很小的数，e-6,影响不大\n",
    "        plt.plot(line_x,line_y)                          #画出点   \n",
    "        \n",
    "\n",
    "x = np.array([[3,3],[4,3],[1,1]])     #x,是一个3*2的矩阵，每一行是一个样本，每一列是样本的维度，输入三个样本点，用np定义一个矩阵\n",
    "y = np.array([1,1,-1])              #y,是一维数组，前两个点是正样本，最后一个样本为负样本\n",
    "\n",
    "# 打印y的长度,****************3\n",
    "# print(len(y))\n",
    "\n",
    "#y本身就是一个数组，同样可以通过其他的方式得到,***************(3,)3即为y的值\n",
    "# print(y.shape)\n",
    "# print(x.shape)           #(3, 2),三行两列的矩阵\n",
    "\n",
    "draw_pts(x,y)            #此处的x,y是前面定义好的x,y，运行函数\n",
    "\n",
    "    \n",
    "\n",
    "w = [0,0]      #是一个向量\n",
    "b = 0          #是一个标量\n",
    "lr = 1        #定义步长的大小，即学习率的大小\n",
    "\n",
    "#感知机原始形式\n",
    "for j in range(100):       #在做100 次的过程中，如果找到了相对应的分割超平面，就不做了，跳出\n",
    "    #怎么统计循环过程中，有没有误分类点，加一个统计值,每次出现一个误分类点，就加上1\n",
    "    wrong_pt_cnt = 0\n",
    "    for i in range(len(y)):         #此时只对每个点只做了一次，可能找不到对应的分割超平面，要对每一个点多做几次，在加一个外层循环\n",
    "        #x[i]  代表第i行，即第i个样本，如果样本点满足这个条件时，就是误分类点了，就可以进行参数的更新\n",
    "        if y[i] != np.sign(np.dot(w,x[i])+b):        #np.dot 函数可以求W，b的内积，判断w*x+b,    即np.sign值为正负，并比较\n",
    "            w = w+lr*y[i]*x[i]\n",
    "            b = b+lr*y[i]\n",
    "            wrong_pt_cnt +=1\n",
    "\n",
    "\n",
    "    if wrong_pt_cnt == 0:\n",
    "        break\n",
    "\n",
    "draw_line(w,b)\n"
   ]
  },
  {
   "cell_type": "code",
   "execution_count": 18,
   "metadata": {},
   "outputs": [
    {
     "name": "stdout",
     "output_type": "stream",
     "text": [
      "[[18 21  6]\n",
      " [21 25  7]\n",
      " [ 6  7  2]]\n"
     ]
    }
   ],
   "source": [
    "#对偶形式\n",
    "gram  = np.dot(x, x.T)      #x,3*2的矩阵 x.T3*3的矩阵，相乘得到3*3的矩阵\n",
    "print(gram)"
   ]
  },
  {
   "cell_type": "code",
   "execution_count": 21,
   "metadata": {},
   "outputs": [
    {
     "name": "stdout",
     "output_type": "stream",
     "text": [
      "[100   0 100]\n"
     ]
    },
    {
     "data": {
      "image/png": "[encoded data removed]",
      "text/plain": [
       "<Figure size 432x288 with 1 Axes>"
      ]
     },
     "metadata": {
      "needs_background": "light"
     },
     "output_type": "display_data"
    }
   ],
   "source": [
    "a = np.array([0,0,0])                 #有三个样本\n",
    "\n",
    "for j in range(100):\n",
    "    wrong_pt_cnt = 0\n",
    "    for i in range(len(y)):\n",
    "        c = 0\n",
    "        b = 0                      #在做累加时，要先做初始化\n",
    "        for k in range(len(y)):\n",
    "            c += a[k] * y[k] * gram[k][i]\n",
    "            b += a[k] * y[k]\n",
    "                        \n",
    "        if y[i] !=np.sign(c * b):\n",
    "            a[i] += 1\n",
    "            wrong_pt_cnt += 1\n",
    "            \n",
    "    if wrong_pt_cnt == 0:\n",
    "        break \n",
    "            \n",
    "print(a)\n",
    "  \n",
    "w = [0,0]        #累加之前，进行初始化    \n",
    "for k in range(len(y)):\n",
    "    w += a[k] * y[k] * x[k]\n",
    "    \n",
    "plt.figure()                    #加一张画布\n",
    "draw_pts(x,y)                #瞄点 \n",
    "draw_line(w,b)"
   ]
  },
  {
   "cell_type": "code",
   "execution_count": null,
   "metadata": {},
   "outputs": [],
   "source": []
  }
 ],
 "metadata": {
  "kernelspec": {
   "display_name": "Python 3",
   "language": "python",
   "name": "python3"
  },
  "language_info": {
   "codemirror_mode": {
    "name": "ipython",
    "version": 3
   },
   "file_extension": ".py",
   "mimetype": "text/x-python",
   "name": "python",
   "nbconvert_exporter": "python",
   "pygments_lexer": "ipython3",
   "version": "3.7.3"
  }
 },
 "nbformat": 4,
 "nbformat_minor": 2
}
